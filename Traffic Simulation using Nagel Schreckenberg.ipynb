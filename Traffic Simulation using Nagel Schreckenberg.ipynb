{
 "cells": [
  {
   "cell_type": "markdown",
   "metadata": {},
   "source": [
    "<h1 align='center'> Modeling Traffic - Nagel Schreckenberg </h1>"
   ]
  },
  {
   "cell_type": "markdown",
   "metadata": {},
   "source": [
    "The Nagel–Schreckenberg model is a theoretical model for the simulation of freeway traffic. The model was developed in the early 1990s by the German physicists Kai Nagel and Michael Schreckenberg.\n",
    "\n",
    "It is essentially a simple <b> cellular automaton </b> model for road traffic flow that can reproduce traffic jams, i.e., show a slow down in average car speed when the road is crowded (high density of cars). The model shows how traffic jams can be thought of as an emergent or collective phenomenon due to interactions between cars on the road, when the density of cars is high and so cars are close to each other on average."
   ]
  },
  {
   "cell_type": "markdown",
   "metadata": {
    "heading_collapsed": true
   },
   "source": [
    "### Importing Libraries"
   ]
  },
  {
   "cell_type": "code",
   "execution_count": 1,
   "metadata": {
    "hidden": true
   },
   "outputs": [],
   "source": [
    "import random\n",
    "from random import uniform, shuffle\n",
    "import matplotlib.pyplot as plt\n",
    "import numpy as np\n",
    "random.seed(5)"
   ]
  },
  {
   "cell_type": "markdown",
   "metadata": {
    "heading_collapsed": true
   },
   "source": [
    "### Declaring Variables"
   ]
  },
  {
   "cell_type": "code",
   "execution_count": 2,
   "metadata": {
    "hidden": true
   },
   "outputs": [],
   "source": [
    "L = 100 # number of cells in row\n",
    "I = 100 # number of iterations\n",
    "density = 0.3 #car density on the road\n",
    "vmax = 20 #maximum velocity\n",
    "p = 0.2 #probability of applying brakes\n",
    "cars_num = int(density * L) # number of cars on the road\n",
    "initial=[0]*cars_num + [-1]*(L-cars_num)\n",
    "shuffle(initial)\n",
    "iterations = [initial] #initial positions of cars on the road"
   ]
  },
  {
   "cell_type": "markdown",
   "metadata": {
    "heading_collapsed": true
   },
   "source": [
    "### Algorithm"
   ]
  },
  {
   "cell_type": "code",
   "execution_count": 3,
   "metadata": {
    "hidden": true
   },
   "outputs": [],
   "source": [
    "for i in range(I):\n",
    "    prev,curr = iterations[-1],[-1] * L\n",
    "    for x in range(L):\n",
    "        \n",
    "        #Checking if there was a car at position x in the previous timestep\n",
    "        if prev[x] > -1: \n",
    "            vi = prev[x]\n",
    "            \n",
    "            #Calculating distance from car ahead\n",
    "            d = 1\n",
    "            while prev[(x + d) % L] < 0:\n",
    "                d += 1\n",
    "                \n",
    "            #increase v up to max speed, but don't move further than next car\n",
    "            vtemp = min(vi+1, d - 1, vmax) \n",
    "            \n",
    "            #with probability p hit the brakes, otherwise sustain velocity\n",
    "            v = max(vtemp - 1, 0) if uniform(0,1) < p else vtemp \n",
    "            \n",
    "            #move the car\n",
    "            curr[(x + v) % L] = v \n",
    "\n",
    "    iterations.append(curr)\n",
    "    \n",
    "pos = np.zeros(shape=(I,L))\n",
    "for i in range(I):\n",
    "    for j in range(L):\n",
    "        pos[i,j] = 1 if iterations[i][j] > -1 else 0"
   ]
  },
  {
   "cell_type": "markdown",
   "metadata": {
    "heading_collapsed": true
   },
   "source": [
    "### Graphical representation"
   ]
  },
  {
   "cell_type": "code",
   "execution_count": 4,
   "metadata": {
    "hidden": true
   },
   "outputs": [
    {
     "data": {
      "image/png": "[encoded data removed]",
      "text/plain": [
       "<matplotlib.figure.Figure at 0x23af465cf98>"
      ]
     },
     "metadata": {},
     "output_type": "display_data"
    }
   ],
   "source": [
    "fig=plt.figure(figsize=(7,7))\n",
    "plt.title('Traffic modeling using Nagel Schreckenberg model',fontsize=17)\n",
    "plt.xlabel('lanes')\n",
    "plt.ylabel('time')\n",
    "plt.imshow(pos, cmap=\"Greys\", interpolation=\"nearest\")\n",
    "plt.savefig('traffic.png')"
   ]
  }
 ],
 "metadata": {
  "kernelspec": {
   "display_name": "Python 3",
   "language": "python",
   "name": "python3"
  },
  "language_info": {
   "codemirror_mode": {
    "name": "ipython",
    "version": 3
   },
   "file_extension": ".py",
   "mimetype": "text/x-python",
   "name": "python",
   "nbconvert_exporter": "python",
   "pygments_lexer": "ipython3",
   "version": "3.7.3"
  },
  "toc": {
   "base_numbering": 1,
   "nav_menu": {},
   "number_sections": true,
   "sideBar": true,
   "skip_h1_title": true,
   "title_cell": "Table of Contents",
   "title_sidebar": "Contents",
   "toc_cell": false,
   "toc_position": {},
   "toc_section_display": true,
   "toc_window_display": false
  }
 },
 "nbformat": 4,
 "nbformat_minor": 2
}
